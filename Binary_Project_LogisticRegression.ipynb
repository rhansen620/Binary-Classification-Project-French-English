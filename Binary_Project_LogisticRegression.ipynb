{
  "cells": [
    {
      "cell_type": "markdown",
      "metadata": {
        "id": "view-in-github",
        "colab_type": "text"
      },
      "source": [
        "<a href=\"https://colab.research.google.com/github/rhansen620/StatNLP2022/blob/main/Binary_Project_LogisticRegression.ipynb\" target=\"_parent\"><img src=\"https://colab.research.google.com/assets/colab-badge.svg\" alt=\"Open In Colab\"/></a>"
      ]
    },
    {
      "cell_type": "markdown",
      "id": "cc49b151",
      "metadata": {
        "id": "cc49b151"
      },
      "source": [
        "Binary Categorization for English/French texts"
      ]
    },
    {
      "cell_type": "markdown",
      "id": "3d88c313",
      "metadata": {
        "id": "3d88c313"
      },
      "source": [
        "These are the modules we need to import"
      ]
    },
    {
      "cell_type": "code",
      "execution_count": 1,
      "id": "3384d803",
      "metadata": {
        "id": "3384d803"
      },
      "outputs": [],
      "source": [
        "from typing import Iterator, Iterable, Tuple, Text, Union\n",
        "\n",
        "import numpy as np\n",
        "from sklearn.model_selection import train_test_split\n",
        "from scipy.sparse import spmatrix\n",
        "from sklearn.feature_extraction.text import CountVectorizer\n",
        "from sklearn import preprocessing\n",
        "import sklearn.linear_model as lm\n",
        "from sklearn.linear_model import LogisticRegression\n",
        "from sklearn.metrics import confusion_matrix\n",
        "from sklearn.preprocessing import StandardScaler\n",
        "from sklearn.metrics import accuracy_score, precision_score, recall_score\n",
        "from sklearn.metrics import accuracy_score\n",
        "from sklearn.metrics import classification_report\n",
        "import matplotlib.pyplot as plt\n",
        "import seaborn as sns\n",
        "\n",
        "NDArray = Union[np.ndarray, spmatrix]\n",
        "#print (\"happy\")"
      ]
    },
    {
      "cell_type": "markdown",
      "source": [
        "Mount to Google Drive"
      ],
      "metadata": {
        "id": "1GJ6kMxS7bQd"
      },
      "id": "1GJ6kMxS7bQd"
    },
    {
      "cell_type": "code",
      "source": [
        "from google.colab import drive\n",
        "drive.mount('/content/gdrive')"
      ],
      "metadata": {
        "id": "848klJ5b7Xt5",
        "colab": {
          "base_uri": "https://localhost:8080/"
        },
        "outputId": "d260e1b3-21ea-4cbb-c90a-c37b9ba87d13"
      },
      "id": "848klJ5b7Xt5",
      "execution_count": 2,
      "outputs": [
        {
          "output_type": "stream",
          "name": "stdout",
          "text": [
            "Mounted at /content/gdrive\n"
          ]
        }
      ]
    },
    {
      "cell_type": "markdown",
      "source": [
        "Copy over your training/test files to colab so you can use them \n",
        "\n",
        "\n",
        "*   cp = copy\n",
        "*   r = recursive (so it will copy all files and not just one)\n",
        "*   first path = where the file is located in your drive\n",
        "*   second path = where you want the file to go in colab (I would leave this the same)"
      ],
      "metadata": {
        "id": "pAvYndrM7YrG"
      },
      "id": "pAvYndrM7YrG"
    },
    {
      "cell_type": "code",
      "source": [
        "!cp -r gdrive/MyDrive/Stat\\ NLP /content/"
      ],
      "metadata": {
        "id": "zsUjlZUx7klS"
      },
      "id": "zsUjlZUx7klS",
      "execution_count": 3,
      "outputs": []
    },
    {
      "cell_type": "markdown",
      "id": "ac02f55c",
      "metadata": {
        "id": "ac02f55c"
      },
      "source": [
        "Making tuples out of our training text where the first value is the label and the second value is the text"
      ]
    },
    {
      "cell_type": "code",
      "source": [
        "!ls Stat\\ NLP"
      ],
      "metadata": {
        "colab": {
          "base_uri": "https://localhost:8080/"
        },
        "id": "yfq1QL_at1kw",
        "outputId": "0e02ae8d-5883-422f-b77c-0d988e08b805"
      },
      "id": "yfq1QL_at1kw",
      "execution_count": 7,
      "outputs": [
        {
          "output_type": "stream",
          "name": "stdout",
          "text": [
            "'attempt 3.ipynb'\t\t\t    randomboth.csv\n",
            "'Binary Project.ipynb'\t\t\t    randomboth_test.txt\n",
            "'Copy of attempt 3 personal albert.ipynb'   randomboth_train.txt\n"
          ]
        }
      ]
    },
    {
      "cell_type": "code",
      "execution_count": 9,
      "id": "113067ee",
      "metadata": {
        "id": "113067ee"
      },
      "outputs": [],
      "source": [
        "detectlanguage = open(\"Stat NLP/randomboth_train.txt\") \n",
        "bm = []\n",
        "texts = []\n",
        "labels = []\n",
        "for line in detectlanguage:\n",
        "    eachline = line.split(\" \", 1)\n",
        "    label = eachline[0]\n",
        "    text = eachline[1]\n",
        "    #print (label)\n",
        "    stripline = text.strip()\n",
        "  #  print(stripline)\n",
        "    r =([label, stripline.rstrip(\"\\n\")])\n",
        "  #  print (r)\n",
        "    bm.append(r)\n",
        "    labels.append(label)\n",
        "    texts.append(stripline)\n",
        "#print (bm)\n",
        "#print (texts)\n",
        "#print (labels)"
      ]
    },
    {
      "cell_type": "markdown",
      "id": "ab41ae80",
      "metadata": {
        "id": "ab41ae80"
      },
      "source": [
        "convert text to features"
      ]
    },
    {
      "cell_type": "code",
      "execution_count": 10,
      "id": "cc7282de",
      "metadata": {
        "id": "cc7282de",
        "outputId": "cd980579-4b3c-4a7e-e596-2d8fa3c305dc",
        "colab": {
          "base_uri": "https://localhost:8080/"
        }
      },
      "outputs": [
        {
          "output_type": "execute_result",
          "data": {
            "text/plain": [
              "<10823x4712 sparse matrix of type '<class 'numpy.int64'>'\n",
              "\twith 221216 stored elements in Compressed Sparse Row format>"
            ]
          },
          "metadata": {},
          "execution_count": 10
        }
      ],
      "source": [
        "vectorizer = CountVectorizer(ngram_range=(1, 2), min_df=10, max_df=.8)    \n",
        "vectorizer.fit_transform(texts)"
      ]
    },
    {
      "cell_type": "markdown",
      "id": "e080c155",
      "metadata": {
        "id": "e080c155"
      },
      "source": [
        "Get the index of the feature - do not run unless you put your own feature in there!!!!!!!"
      ]
    },
    {
      "cell_type": "code",
      "execution_count": 11,
      "id": "40d220bc",
      "metadata": {
        "id": "40d220bc"
      },
      "outputs": [],
      "source": [
        "vectorizer.vocabulary_.get('putthefeaturenamehere')"
      ]
    },
    {
      "cell_type": "markdown",
      "id": "1bec1b29",
      "metadata": {
        "id": "1bec1b29"
      },
      "source": [
        "Turn those features into a matrix!!"
      ]
    },
    {
      "cell_type": "code",
      "execution_count": 12,
      "id": "034376de",
      "metadata": {
        "scrolled": true,
        "id": "034376de",
        "outputId": "0acadbd4-56e0-44b5-f84d-1c15ee4fb785",
        "colab": {
          "base_uri": "https://localhost:8080/"
        }
      },
      "outputs": [
        {
          "output_type": "stream",
          "name": "stdout",
          "text": [
            "(10823, 4712)\n"
          ]
        }
      ],
      "source": [
        "features = vectorizer.transform(texts).toarray()\n",
        "print (features.shape)"
      ]
    },
    {
      "cell_type": "markdown",
      "id": "6286d60c",
      "metadata": {
        "id": "6286d60c"
      },
      "source": [
        "texts --> labels init"
      ]
    },
    {
      "cell_type": "code",
      "execution_count": 13,
      "id": "f69e191b",
      "metadata": {
        "id": "f69e191b",
        "outputId": "ea1b707e-33a2-497e-b7d7-655e5da15cdb",
        "colab": {
          "base_uri": "https://localhost:8080/"
        }
      },
      "outputs": [
        {
          "output_type": "execute_result",
          "data": {
            "text/plain": [
              "LabelEncoder()"
            ]
          },
          "metadata": {},
          "execution_count": 13
        }
      ],
      "source": [
        "le = preprocessing.LabelEncoder()\n",
        "le.fit(labels)"
      ]
    },
    {
      "cell_type": "markdown",
      "id": "f6fd7ee9",
      "metadata": {
        "id": "f6fd7ee9"
      },
      "source": [
        "What are the labels?"
      ]
    },
    {
      "cell_type": "code",
      "execution_count": 14,
      "id": "28986f96",
      "metadata": {
        "id": "28986f96",
        "outputId": "c9a7289c-707a-48a4-f076-8fce6e547272",
        "colab": {
          "base_uri": "https://localhost:8080/"
        }
      },
      "outputs": [
        {
          "output_type": "execute_result",
          "data": {
            "text/plain": [
              "['ENGLISH', 'FRENCH']"
            ]
          },
          "metadata": {},
          "execution_count": 14
        }
      ],
      "source": [
        "list(le.classes_)"
      ]
    },
    {
      "cell_type": "markdown",
      "id": "064319bc",
      "metadata": {
        "id": "064319bc"
      },
      "source": [
        "Index of specific label"
      ]
    },
    {
      "cell_type": "code",
      "execution_count": 15,
      "id": "5926e6b5",
      "metadata": {
        "id": "5926e6b5",
        "outputId": "66f18a12-bfd6-48bd-8b7f-21eccda32476",
        "colab": {
          "base_uri": "https://localhost:8080/"
        }
      },
      "outputs": [
        {
          "output_type": "execute_result",
          "data": {
            "text/plain": [
              "1"
            ]
          },
          "metadata": {},
          "execution_count": 15
        }
      ],
      "source": [
        "le.transform(labels)[0]"
      ]
    },
    {
      "cell_type": "markdown",
      "id": "8a944c54",
      "metadata": {
        "id": "8a944c54"
      },
      "source": [
        "Creates a label vector"
      ]
    },
    {
      "cell_type": "code",
      "execution_count": 16,
      "id": "f51ff941",
      "metadata": {
        "id": "f51ff941"
      },
      "outputs": [],
      "source": [
        "label2 = le.transform(labels)"
      ]
    },
    {
      "cell_type": "markdown",
      "id": "910cbe73",
      "metadata": {
        "id": "910cbe73"
      },
      "source": [
        "Start the Logistic Regression"
      ]
    },
    {
      "cell_type": "code",
      "execution_count": 17,
      "id": "776e5569",
      "metadata": {
        "id": "776e5569"
      },
      "outputs": [],
      "source": [
        "logreg = LogisticRegression(fit_intercept= True,class_weight= {0:3,1:9}, random_state = 0)"
      ]
    },
    {
      "cell_type": "markdown",
      "id": "15851c44",
      "metadata": {
        "id": "15851c44"
      },
      "source": [
        "Train, baby, train!"
      ]
    },
    {
      "cell_type": "code",
      "execution_count": 18,
      "id": "8246c4f9",
      "metadata": {
        "scrolled": true,
        "id": "8246c4f9",
        "outputId": "b4a08c3a-87ec-476d-c73c-83e0e7d7cee2",
        "colab": {
          "base_uri": "https://localhost:8080/"
        }
      },
      "outputs": [
        {
          "output_type": "execute_result",
          "data": {
            "text/plain": [
              "LogisticRegression(class_weight={0: 3, 1: 9}, random_state=0)"
            ]
          },
          "metadata": {},
          "execution_count": 18
        }
      ],
      "source": [
        "logreg.fit(features, label2, sample_weight=None)"
      ]
    },
    {
      "cell_type": "markdown",
      "id": "ea282b06",
      "metadata": {
        "id": "ea282b06"
      },
      "source": [
        "Evaluating the Training"
      ]
    },
    {
      "cell_type": "code",
      "execution_count": 19,
      "id": "615a03e1",
      "metadata": {
        "id": "615a03e1",
        "outputId": "fc5f7719-babc-4083-b7da-071ad15de9c2",
        "colab": {
          "base_uri": "https://localhost:8080/"
        }
      },
      "outputs": [
        {
          "output_type": "stream",
          "name": "stdout",
          "text": [
            "The Accuracy for Training Set is 99.90760417629123\n"
          ]
        }
      ],
      "source": [
        "train_acc = logreg.score(features, label2)\n",
        "print(\"The Accuracy for Training Set is {}\".format(train_acc*100))"
      ]
    },
    {
      "cell_type": "markdown",
      "id": "6fe6aaba",
      "metadata": {
        "id": "6fe6aaba"
      },
      "source": [
        "Preprocess the data for the prediction (test)"
      ]
    },
    {
      "cell_type": "code",
      "execution_count": 21,
      "id": "a3fa5418",
      "metadata": {
        "id": "a3fa5418",
        "outputId": "f2e5a907-569d-49aa-9e5c-2fba40ba3e30",
        "colab": {
          "base_uri": "https://localhost:8080/"
        }
      },
      "outputs": [
        {
          "output_type": "stream",
          "name": "stdout",
          "text": [
            "['ENGLISH', 'ENGLISH', 'FRENCH', 'ENGLISH', 'FRENCH', 'FRENCH', 'FRENCH', 'FRENCH', 'FRENCH', 'ENGLISH', 'FRENCH', 'FRENCH', 'FRENCH', 'ENGLISH', 'FRENCH', 'ENGLISH', 'ENGLISH', 'ENGLISH', 'ENGLISH', 'FRENCH', 'FRENCH', 'FRENCH', 'ENGLISH', 'FRENCH', 'ENGLISH', 'ENGLISH', 'FRENCH', 'ENGLISH', 'ENGLISH', 'ENGLISH', 'FRENCH', 'ENGLISH', 'ENGLISH', 'FRENCH', 'ENGLISH', 'FRENCH', 'ENGLISH', 'FRENCH', 'FRENCH', 'ENGLISH', 'ENGLISH', 'FRENCH', 'ENGLISH', 'FRENCH', 'ENGLISH', 'ENGLISH', 'FRENCH', 'ENGLISH', 'ENGLISH', 'ENGLISH', 'FRENCH', 'ENGLISH', 'FRENCH', 'ENGLISH', 'FRENCH', 'FRENCH', 'ENGLISH', 'ENGLISH', 'FRENCH', 'FRENCH', 'ENGLISH', 'FRENCH', 'FRENCH', 'ENGLISH', 'FRENCH', 'ENGLISH', 'FRENCH', 'ENGLISH', 'ENGLISH', 'ENGLISH', 'FRENCH', 'ENGLISH', 'FRENCH', 'ENGLISH', 'FRENCH', 'FRENCH', 'ENGLISH', 'ENGLISH', 'ENGLISH', 'FRENCH', 'ENGLISH', 'ENGLISH', 'FRENCH', 'FRENCH', 'ENGLISH', 'FRENCH', 'FRENCH', 'FRENCH', 'FRENCH', 'ENGLISH', 'ENGLISH', 'ENGLISH', 'FRENCH', 'ENGLISH', 'FRENCH', 'FRENCH', 'FRENCH', 'ENGLISH', 'ENGLISH', 'ENGLISH', 'ENGLISH', 'ENGLISH', 'FRENCH', 'FRENCH', 'FRENCH', 'FRENCH', 'ENGLISH', 'FRENCH', 'ENGLISH', 'ENGLISH', 'ENGLISH', 'FRENCH', 'ENGLISH', 'ENGLISH', 'ENGLISH', 'FRENCH', 'FRENCH', 'FRENCH', 'ENGLISH', 'ENGLISH', 'ENGLISH', 'FRENCH', 'FRENCH', 'FRENCH', 'FRENCH', 'ENGLISH', 'FRENCH', 'ENGLISH', 'ENGLISH', 'FRENCH', 'ENGLISH', 'FRENCH', 'FRENCH', 'ENGLISH', 'FRENCH', 'ENGLISH', 'FRENCH', 'FRENCH', 'FRENCH', 'FRENCH', 'ENGLISH', 'FRENCH', 'FRENCH', 'ENGLISH', 'FRENCH', 'FRENCH', 'ENGLISH', 'ENGLISH', 'FRENCH', 'FRENCH', 'FRENCH', 'ENGLISH', 'FRENCH', 'ENGLISH', 'ENGLISH', 'FRENCH', 'FRENCH', 'FRENCH', 'FRENCH', 'FRENCH', 'FRENCH', 'FRENCH', 'ENGLISH', 'ENGLISH', 'ENGLISH', 'FRENCH', 'FRENCH', 'ENGLISH', 'ENGLISH', 'FRENCH', 'ENGLISH', 'FRENCH', 'FRENCH', 'ENGLISH', 'FRENCH', 'FRENCH', 'FRENCH', 'ENGLISH', 'FRENCH', 'FRENCH', 'FRENCH', 'FRENCH', 'ENGLISH', 'FRENCH', 'ENGLISH', 'FRENCH', 'ENGLISH', 'ENGLISH', 'FRENCH', 'FRENCH', 'FRENCH', 'ENGLISH', 'FRENCH', 'FRENCH', 'ENGLISH', 'FRENCH', 'ENGLISH', 'FRENCH', 'FRENCH', 'ENGLISH', 'FRENCH', 'FRENCH', 'FRENCH', 'FRENCH', 'FRENCH', 'FRENCH', 'FRENCH', 'FRENCH', 'FRENCH', 'FRENCH', 'FRENCH', 'FRENCH', 'FRENCH', 'ENGLISH', 'FRENCH', 'ENGLISH', 'FRENCH', 'FRENCH', 'ENGLISH', 'FRENCH', 'ENGLISH', 'ENGLISH', 'FRENCH', 'FRENCH', 'ENGLISH', 'FRENCH', 'ENGLISH', 'FRENCH', 'ENGLISH', 'FRENCH', 'FRENCH', 'FRENCH', 'FRENCH', 'FRENCH', 'FRENCH', 'FRENCH', 'ENGLISH', 'FRENCH', 'FRENCH', 'ENGLISH', 'FRENCH', 'FRENCH', 'FRENCH', 'FRENCH', 'FRENCH', 'FRENCH', 'FRENCH', 'FRENCH', 'FRENCH', 'FRENCH', 'ENGLISH', 'ENGLISH', 'ENGLISH', 'ENGLISH', 'FRENCH', 'FRENCH', 'FRENCH', 'ENGLISH', 'ENGLISH', 'ENGLISH', 'ENGLISH', 'ENGLISH', 'ENGLISH', 'FRENCH', 'FRENCH', 'FRENCH', 'FRENCH', 'FRENCH', 'FRENCH', 'ENGLISH', 'FRENCH', 'ENGLISH', 'ENGLISH', 'FRENCH', 'ENGLISH', 'FRENCH', 'FRENCH', 'ENGLISH', 'FRENCH', 'FRENCH', 'ENGLISH', 'FRENCH', 'FRENCH', 'ENGLISH', 'ENGLISH', 'ENGLISH', 'FRENCH', 'ENGLISH', 'ENGLISH', 'ENGLISH', 'FRENCH', 'FRENCH', 'ENGLISH', 'FRENCH', 'ENGLISH', 'ENGLISH', 'ENGLISH', 'FRENCH', 'ENGLISH', 'FRENCH', 'ENGLISH', 'FRENCH', 'FRENCH', 'FRENCH', 'ENGLISH', 'FRENCH', 'FRENCH', 'ENGLISH', 'ENGLISH', 'FRENCH', 'ENGLISH', 'FRENCH', 'ENGLISH', 'FRENCH', 'FRENCH', 'FRENCH', 'FRENCH', 'FRENCH', 'FRENCH', 'FRENCH', 'FRENCH', 'FRENCH', 'ENGLISH', 'FRENCH', 'FRENCH', 'FRENCH', 'ENGLISH', 'ENGLISH', 'ENGLISH', 'FRENCH', 'ENGLISH', 'ENGLISH', 'FRENCH', 'ENGLISH', 'ENGLISH', 'FRENCH', 'ENGLISH', 'ENGLISH', 'FRENCH', 'ENGLISH', 'ENGLISH', 'FRENCH', 'FRENCH', 'ENGLISH', 'ENGLISH', 'FRENCH', 'ENGLISH', 'FRENCH', 'FRENCH', 'ENGLISH', 'ENGLISH', 'FRENCH', 'FRENCH', 'ENGLISH', 'FRENCH', 'ENGLISH', 'FRENCH', 'FRENCH', 'FRENCH', 'ENGLISH', 'ENGLISH', 'ENGLISH', 'FRENCH', 'FRENCH', 'ENGLISH', 'ENGLISH', 'ENGLISH', 'FRENCH', 'ENGLISH', 'FRENCH', 'ENGLISH', 'FRENCH', 'FRENCH', 'FRENCH', 'FRENCH', 'FRENCH', 'FRENCH', 'ENGLISH', 'ENGLISH', 'FRENCH', 'FRENCH', 'ENGLISH', 'ENGLISH', 'FRENCH', 'ENGLISH', 'FRENCH', 'ENGLISH', 'ENGLISH', 'ENGLISH', 'FRENCH', 'FRENCH', 'FRENCH', 'FRENCH', 'ENGLISH', 'FRENCH', 'ENGLISH', 'FRENCH', 'ENGLISH', 'FRENCH', 'FRENCH', 'FRENCH', 'ENGLISH', 'ENGLISH', 'ENGLISH', 'FRENCH', 'ENGLISH', 'FRENCH', 'FRENCH', 'FRENCH', 'FRENCH', 'ENGLISH', 'ENGLISH', 'FRENCH', 'ENGLISH', 'ENGLISH', 'ENGLISH', 'FRENCH', 'ENGLISH', 'FRENCH', 'FRENCH', 'FRENCH', 'FRENCH', 'FRENCH', 'ENGLISH', 'FRENCH', 'FRENCH', 'ENGLISH', 'FRENCH', 'FRENCH', 'FRENCH', 'ENGLISH', 'ENGLISH', 'ENGLISH', 'FRENCH', 'FRENCH', 'FRENCH', 'ENGLISH', 'FRENCH', 'FRENCH', 'FRENCH', 'ENGLISH', 'FRENCH', 'ENGLISH', 'ENGLISH', 'ENGLISH', 'FRENCH', 'ENGLISH', 'FRENCH', 'FRENCH', 'FRENCH', 'ENGLISH', 'ENGLISH', 'FRENCH', 'FRENCH', 'FRENCH', 'ENGLISH', 'ENGLISH', 'ENGLISH', 'FRENCH', 'FRENCH', 'ENGLISH', 'ENGLISH', 'ENGLISH', 'FRENCH', 'FRENCH', 'ENGLISH', 'ENGLISH', 'ENGLISH', 'FRENCH', 'ENGLISH', 'ENGLISH', 'ENGLISH', 'FRENCH', 'FRENCH', 'ENGLISH', 'FRENCH', 'FRENCH', 'FRENCH', 'FRENCH', 'ENGLISH', 'ENGLISH', 'FRENCH', 'FRENCH', 'ENGLISH', 'FRENCH', 'ENGLISH', 'ENGLISH', 'ENGLISH', 'ENGLISH', 'ENGLISH', 'ENGLISH', 'FRENCH', 'FRENCH', 'FRENCH', 'ENGLISH', 'ENGLISH', 'FRENCH', 'FRENCH', 'ENGLISH', 'ENGLISH', 'FRENCH', 'FRENCH', 'FRENCH', 'FRENCH', 'FRENCH', 'FRENCH', 'FRENCH', 'FRENCH', 'ENGLISH', 'ENGLISH', 'FRENCH', 'FRENCH', 'FRENCH', 'FRENCH', 'ENGLISH', 'ENGLISH', 'ENGLISH', 'FRENCH', 'ENGLISH', 'ENGLISH', 'ENGLISH', 'FRENCH', 'FRENCH', 'ENGLISH', 'FRENCH', 'FRENCH', 'ENGLISH', 'ENGLISH', 'FRENCH', 'FRENCH', 'FRENCH', 'ENGLISH', 'ENGLISH', 'FRENCH', 'ENGLISH', 'ENGLISH', 'ENGLISH', 'FRENCH', 'FRENCH', 'ENGLISH', 'FRENCH', 'FRENCH', 'ENGLISH', 'FRENCH', 'FRENCH', 'FRENCH', 'FRENCH', 'FRENCH', 'ENGLISH', 'FRENCH', 'FRENCH', 'ENGLISH', 'ENGLISH', 'FRENCH', 'ENGLISH', 'ENGLISH', 'FRENCH', 'ENGLISH', 'ENGLISH', 'FRENCH', 'FRENCH', 'FRENCH', 'ENGLISH', 'ENGLISH', 'FRENCH', 'FRENCH', 'FRENCH', 'FRENCH', 'ENGLISH', 'ENGLISH', 'FRENCH', 'ENGLISH', 'ENGLISH', 'ENGLISH', 'FRENCH', 'ENGLISH', 'FRENCH', 'ENGLISH', 'ENGLISH', 'ENGLISH', 'ENGLISH', 'FRENCH', 'ENGLISH', 'FRENCH', 'FRENCH', 'ENGLISH', 'FRENCH', 'FRENCH', 'FRENCH', 'ENGLISH', 'FRENCH', 'FRENCH', 'FRENCH', 'FRENCH', 'ENGLISH', 'ENGLISH', 'FRENCH', 'FRENCH', 'FRENCH', 'ENGLISH', 'FRENCH', 'ENGLISH', 'FRENCH', 'ENGLISH', 'ENGLISH', 'ENGLISH', 'ENGLISH', 'FRENCH', 'ENGLISH', 'ENGLISH', 'FRENCH', 'FRENCH', 'ENGLISH', 'ENGLISH', 'FRENCH', 'ENGLISH', 'FRENCH', 'FRENCH', 'FRENCH', 'ENGLISH', 'ENGLISH', 'FRENCH', 'FRENCH', 'ENGLISH', 'ENGLISH', 'ENGLISH', 'FRENCH', 'FRENCH', 'FRENCH', 'ENGLISH', 'ENGLISH', 'ENGLISH', 'FRENCH', 'FRENCH', 'ENGLISH', 'FRENCH', 'FRENCH', 'FRENCH', 'FRENCH', 'FRENCH', 'FRENCH', 'FRENCH', 'ENGLISH', 'FRENCH', 'FRENCH', 'ENGLISH', 'ENGLISH', 'FRENCH', 'ENGLISH', 'FRENCH', 'ENGLISH', 'ENGLISH', 'ENGLISH', 'FRENCH', 'ENGLISH', 'FRENCH', 'ENGLISH', 'FRENCH', 'ENGLISH', 'FRENCH', 'ENGLISH', 'ENGLISH', 'FRENCH', 'ENGLISH', 'ENGLISH', 'FRENCH', 'ENGLISH', 'ENGLISH', 'FRENCH', 'FRENCH', 'FRENCH', 'FRENCH', 'ENGLISH', 'ENGLISH', 'FRENCH', 'ENGLISH', 'ENGLISH', 'FRENCH', 'ENGLISH', 'ENGLISH', 'ENGLISH', 'FRENCH', 'ENGLISH', 'ENGLISH', 'ENGLISH', 'FRENCH', 'ENGLISH', 'ENGLISH', 'FRENCH', 'ENGLISH', 'ENGLISH', 'FRENCH', 'FRENCH', 'ENGLISH', 'ENGLISH', 'ENGLISH', 'FRENCH', 'FRENCH', 'FRENCH', 'FRENCH', 'FRENCH', 'FRENCH', 'ENGLISH', 'FRENCH', 'ENGLISH', 'FRENCH', 'FRENCH', 'FRENCH', 'FRENCH', 'ENGLISH', 'FRENCH', 'ENGLISH', 'FRENCH', 'FRENCH', 'FRENCH', 'FRENCH', 'ENGLISH', 'FRENCH', 'FRENCH', 'FRENCH', 'ENGLISH', 'FRENCH', 'FRENCH', 'FRENCH', 'ENGLISH', 'FRENCH', 'FRENCH', 'ENGLISH', 'ENGLISH', 'FRENCH', 'ENGLISH', 'ENGLISH', 'FRENCH', 'FRENCH', 'FRENCH', 'FRENCH', 'ENGLISH', 'ENGLISH', 'FRENCH', 'FRENCH', 'FRENCH', 'ENGLISH', 'FRENCH', 'FRENCH', 'FRENCH', 'ENGLISH', 'FRENCH', 'ENGLISH', 'ENGLISH', 'ENGLISH', 'ENGLISH', 'FRENCH', 'ENGLISH', 'ENGLISH', 'FRENCH', 'FRENCH', 'FRENCH', 'ENGLISH', 'FRENCH', 'FRENCH', 'FRENCH', 'FRENCH', 'ENGLISH', 'FRENCH', 'ENGLISH', 'ENGLISH', 'ENGLISH', 'FRENCH', 'FRENCH', 'FRENCH', 'ENGLISH', 'FRENCH', 'ENGLISH', 'FRENCH', 'FRENCH', 'FRENCH', 'ENGLISH', 'ENGLISH', 'FRENCH', 'ENGLISH', 'FRENCH', 'FRENCH', 'FRENCH', 'FRENCH', 'FRENCH', 'FRENCH', 'ENGLISH', 'FRENCH', 'FRENCH', 'FRENCH', 'FRENCH', 'FRENCH', 'ENGLISH', 'ENGLISH', 'ENGLISH', 'ENGLISH', 'FRENCH', 'ENGLISH', 'FRENCH', 'FRENCH', 'ENGLISH', 'ENGLISH', 'ENGLISH', 'FRENCH', 'FRENCH', 'ENGLISH', 'FRENCH', 'ENGLISH', 'ENGLISH', 'FRENCH', 'ENGLISH', 'FRENCH', 'FRENCH', 'ENGLISH', 'ENGLISH', 'FRENCH', 'ENGLISH', 'FRENCH', 'FRENCH', 'FRENCH', 'FRENCH', 'FRENCH', 'ENGLISH', 'FRENCH', 'FRENCH', 'FRENCH', 'FRENCH', 'ENGLISH', 'ENGLISH', 'FRENCH', 'ENGLISH', 'FRENCH', 'ENGLISH', 'FRENCH', 'ENGLISH', 'ENGLISH', 'FRENCH', 'ENGLISH', 'ENGLISH', 'ENGLISH', 'ENGLISH', 'ENGLISH', 'ENGLISH', 'ENGLISH', 'FRENCH', 'ENGLISH', 'FRENCH', 'FRENCH', 'FRENCH', 'ENGLISH', 'ENGLISH', 'FRENCH', 'FRENCH', 'FRENCH', 'ENGLISH', 'ENGLISH', 'ENGLISH', 'FRENCH', 'FRENCH', 'FRENCH', 'ENGLISH', 'FRENCH', 'ENGLISH', 'FRENCH', 'FRENCH', 'ENGLISH', 'ENGLISH', 'FRENCH', 'FRENCH', 'FRENCH', 'FRENCH', 'ENGLISH', 'FRENCH', 'ENGLISH', 'FRENCH', 'FRENCH', 'FRENCH', 'FRENCH', 'ENGLISH', 'ENGLISH', 'ENGLISH', 'FRENCH', 'ENGLISH', 'ENGLISH', 'ENGLISH', 'ENGLISH', 'ENGLISH', 'FRENCH', 'FRENCH', 'FRENCH', 'ENGLISH', 'ENGLISH', 'FRENCH', 'ENGLISH', 'FRENCH', 'ENGLISH', 'ENGLISH', 'ENGLISH', 'FRENCH', 'ENGLISH', 'FRENCH', 'FRENCH', 'ENGLISH', 'FRENCH', 'FRENCH', 'ENGLISH', 'ENGLISH', 'ENGLISH', 'FRENCH', 'FRENCH', 'FRENCH', 'ENGLISH', 'ENGLISH', 'ENGLISH', 'FRENCH', 'FRENCH', 'ENGLISH', 'FRENCH', 'ENGLISH', 'ENGLISH', 'ENGLISH', 'ENGLISH', 'ENGLISH', 'FRENCH', 'ENGLISH', 'FRENCH', 'ENGLISH', 'FRENCH', 'FRENCH', 'FRENCH', 'ENGLISH', 'FRENCH', 'ENGLISH', 'FRENCH', 'FRENCH', 'FRENCH', 'FRENCH', 'FRENCH', 'ENGLISH', 'FRENCH', 'ENGLISH', 'ENGLISH', 'ENGLISH', 'ENGLISH', 'FRENCH', 'FRENCH', 'ENGLISH', 'ENGLISH', 'ENGLISH', 'FRENCH', 'FRENCH', 'FRENCH', 'FRENCH', 'FRENCH', 'ENGLISH', 'FRENCH', 'FRENCH', 'ENGLISH', 'FRENCH', 'ENGLISH', 'FRENCH', 'ENGLISH', 'ENGLISH', 'FRENCH', 'ENGLISH', 'FRENCH', 'FRENCH', 'ENGLISH', 'ENGLISH', 'FRENCH', 'FRENCH', 'ENGLISH', 'ENGLISH', 'FRENCH', 'FRENCH', 'FRENCH', 'ENGLISH', 'FRENCH', 'FRENCH', 'ENGLISH', 'ENGLISH', 'FRENCH', 'FRENCH', 'FRENCH', 'FRENCH', 'ENGLISH', 'FRENCH', 'FRENCH', 'FRENCH', 'FRENCH', 'ENGLISH', 'FRENCH', 'FRENCH', 'FRENCH', 'FRENCH', 'ENGLISH', 'FRENCH', 'ENGLISH', 'ENGLISH', 'FRENCH', 'FRENCH', 'FRENCH', 'FRENCH', 'FRENCH', 'FRENCH', 'ENGLISH', 'FRENCH', 'FRENCH', 'ENGLISH', 'ENGLISH', 'FRENCH', 'FRENCH', 'FRENCH', 'ENGLISH', 'FRENCH', 'FRENCH', 'FRENCH', 'FRENCH', 'FRENCH', 'FRENCH', 'ENGLISH', 'FRENCH', 'ENGLISH', 'ENGLISH', 'FRENCH', 'FRENCH', 'FRENCH', 'ENGLISH', 'FRENCH', 'FRENCH', 'FRENCH', 'FRENCH', 'FRENCH', 'FRENCH', 'ENGLISH', 'ENGLISH', 'ENGLISH', 'FRENCH', 'ENGLISH', 'ENGLISH', 'FRENCH', 'ENGLISH', 'ENGLISH', 'ENGLISH', 'FRENCH', 'FRENCH', 'ENGLISH', 'FRENCH', 'FRENCH', 'FRENCH', 'ENGLISH', 'ENGLISH', 'ENGLISH', 'ENGLISH', 'ENGLISH', 'FRENCH', 'FRENCH', 'ENGLISH', 'FRENCH', 'FRENCH', 'ENGLISH', 'ENGLISH', 'ENGLISH', 'ENGLISH', 'ENGLISH', 'ENGLISH', 'ENGLISH', 'ENGLISH', 'FRENCH', 'FRENCH', 'ENGLISH', 'FRENCH', 'ENGLISH', 'ENGLISH', 'FRENCH', 'FRENCH', 'ENGLISH', 'ENGLISH', 'ENGLISH', 'ENGLISH', 'FRENCH', 'FRENCH', 'FRENCH', 'FRENCH', 'ENGLISH', 'ENGLISH', 'ENGLISH', 'ENGLISH', 'FRENCH', 'ENGLISH', 'FRENCH', 'ENGLISH', 'ENGLISH', 'FRENCH', 'FRENCH', 'ENGLISH', 'ENGLISH', 'ENGLISH', 'ENGLISH', 'ENGLISH', 'ENGLISH', 'ENGLISH', 'ENGLISH', 'ENGLISH', 'FRENCH', 'FRENCH', 'ENGLISH', 'ENGLISH', 'ENGLISH', 'FRENCH', 'ENGLISH', 'FRENCH', 'FRENCH', 'FRENCH', 'FRENCH', 'FRENCH', 'FRENCH', 'ENGLISH', 'FRENCH', 'ENGLISH', 'FRENCH', 'FRENCH', 'FRENCH', 'ENGLISH', 'ENGLISH', 'FRENCH', 'ENGLISH', 'FRENCH', 'FRENCH', 'ENGLISH', 'FRENCH', 'ENGLISH', 'ENGLISH', 'FRENCH', 'ENGLISH', 'ENGLISH', 'FRENCH', 'FRENCH', 'FRENCH', 'ENGLISH', 'FRENCH', 'FRENCH', 'ENGLISH', 'FRENCH', 'ENGLISH', 'FRENCH', 'ENGLISH', 'FRENCH', 'ENGLISH', 'FRENCH', 'FRENCH', 'ENGLISH', 'ENGLISH', 'ENGLISH', 'ENGLISH', 'FRENCH', 'ENGLISH', 'FRENCH', 'FRENCH', 'FRENCH', 'ENGLISH', 'FRENCH', 'FRENCH', 'FRENCH', 'ENGLISH', 'FRENCH', 'FRENCH', 'FRENCH', 'FRENCH', 'FRENCH', 'ENGLISH', 'FRENCH', 'FRENCH', 'FRENCH', 'FRENCH', 'ENGLISH', 'FRENCH', 'FRENCH', 'ENGLISH', 'ENGLISH', 'ENGLISH', 'FRENCH', 'ENGLISH', 'FRENCH', 'FRENCH', 'ENGLISH', 'FRENCH', 'ENGLISH', 'FRENCH', 'FRENCH', 'ENGLISH', 'FRENCH', 'FRENCH', 'FRENCH', 'FRENCH', 'FRENCH', 'FRENCH', 'FRENCH', 'ENGLISH', 'FRENCH', 'FRENCH', 'FRENCH', 'ENGLISH', 'ENGLISH', 'ENGLISH', 'ENGLISH', 'FRENCH', 'FRENCH', 'ENGLISH', 'FRENCH', 'FRENCH', 'FRENCH', 'ENGLISH', 'FRENCH', 'FRENCH', 'ENGLISH', 'FRENCH', 'ENGLISH', 'FRENCH', 'FRENCH', 'FRENCH', 'ENGLISH', 'FRENCH', 'FRENCH', 'ENGLISH', 'FRENCH', 'ENGLISH', 'FRENCH', 'ENGLISH', 'ENGLISH', 'ENGLISH', 'FRENCH', 'FRENCH', 'FRENCH', 'ENGLISH', 'ENGLISH', 'FRENCH', 'ENGLISH', 'FRENCH', 'FRENCH', 'FRENCH', 'ENGLISH', 'ENGLISH', 'FRENCH', 'FRENCH', 'ENGLISH', 'ENGLISH', 'FRENCH', 'FRENCH', 'FRENCH', 'ENGLISH', 'ENGLISH', 'FRENCH', 'FRENCH', 'FRENCH', 'ENGLISH', 'FRENCH', 'FRENCH', 'ENGLISH', 'FRENCH', 'FRENCH', 'FRENCH', 'ENGLISH', 'ENGLISH', 'ENGLISH', 'FRENCH', 'FRENCH', 'FRENCH', 'FRENCH', 'ENGLISH', 'ENGLISH', 'ENGLISH', 'FRENCH', 'FRENCH', 'FRENCH', 'FRENCH', 'FRENCH', 'ENGLISH', 'FRENCH', 'FRENCH', 'FRENCH', 'ENGLISH', 'ENGLISH', 'ENGLISH', 'ENGLISH', 'ENGLISH', 'ENGLISH', 'ENGLISH', 'FRENCH', 'ENGLISH', 'FRENCH', 'ENGLISH', 'FRENCH', 'FRENCH', 'ENGLISH', 'ENGLISH', 'ENGLISH', 'FRENCH', 'FRENCH', 'ENGLISH', 'FRENCH', 'ENGLISH', 'FRENCH', 'ENGLISH', 'ENGLISH', 'FRENCH', 'FRENCH', 'ENGLISH', 'ENGLISH', 'ENGLISH', 'FRENCH', 'FRENCH', 'FRENCH', 'ENGLISH', 'FRENCH', 'ENGLISH', 'FRENCH', 'ENGLISH', 'ENGLISH', 'ENGLISH', 'ENGLISH', 'FRENCH', 'FRENCH', 'FRENCH', 'FRENCH', 'ENGLISH', 'ENGLISH', 'FRENCH', 'FRENCH', 'ENGLISH', 'FRENCH', 'FRENCH', 'ENGLISH', 'ENGLISH', 'FRENCH', 'ENGLISH', 'FRENCH', 'FRENCH', 'ENGLISH', 'FRENCH', 'FRENCH', 'ENGLISH', 'FRENCH', 'ENGLISH', 'FRENCH', 'FRENCH', 'ENGLISH', 'FRENCH', 'FRENCH', 'ENGLISH', 'ENGLISH', 'ENGLISH', 'ENGLISH', 'FRENCH', 'FRENCH', 'FRENCH', 'FRENCH', 'ENGLISH', 'FRENCH', 'FRENCH', 'ENGLISH', 'FRENCH', 'FRENCH', 'FRENCH', 'ENGLISH', 'FRENCH', 'FRENCH', 'FRENCH', 'FRENCH', 'ENGLISH', 'FRENCH', 'FRENCH', 'ENGLISH', 'ENGLISH', 'FRENCH', 'FRENCH', 'FRENCH', 'ENGLISH', 'ENGLISH', 'ENGLISH', 'ENGLISH', 'ENGLISH', 'FRENCH', 'ENGLISH', 'FRENCH', 'FRENCH', 'FRENCH', 'FRENCH', 'FRENCH', 'ENGLISH', 'ENGLISH', 'ENGLISH', 'FRENCH', 'FRENCH', 'ENGLISH', 'ENGLISH', 'FRENCH', 'ENGLISH', 'ENGLISH', 'ENGLISH', 'FRENCH', 'FRENCH', 'ENGLISH', 'ENGLISH', 'FRENCH', 'ENGLISH', 'FRENCH', 'FRENCH', 'FRENCH', 'FRENCH', 'ENGLISH', 'FRENCH', 'ENGLISH', 'ENGLISH', 'ENGLISH', 'FRENCH', 'FRENCH', 'FRENCH', 'ENGLISH', 'ENGLISH', 'ENGLISH', 'FRENCH', 'ENGLISH', 'FRENCH', 'FRENCH', 'ENGLISH', 'FRENCH', 'FRENCH', 'FRENCH', 'FRENCH', 'FRENCH', 'ENGLISH', 'FRENCH', 'FRENCH', 'ENGLISH', 'ENGLISH', 'ENGLISH', 'ENGLISH', 'ENGLISH', 'ENGLISH', 'FRENCH', 'FRENCH', 'ENGLISH', 'ENGLISH', 'ENGLISH', 'ENGLISH', 'FRENCH', 'FRENCH', 'ENGLISH', 'ENGLISH', 'FRENCH', 'ENGLISH', 'FRENCH', 'ENGLISH', 'ENGLISH', 'ENGLISH', 'FRENCH', 'FRENCH', 'ENGLISH', 'FRENCH', 'ENGLISH', 'FRENCH', 'ENGLISH', 'ENGLISH', 'ENGLISH', 'ENGLISH', 'ENGLISH', 'ENGLISH', 'FRENCH', 'FRENCH', 'FRENCH', 'FRENCH', 'FRENCH', 'FRENCH', 'FRENCH', 'ENGLISH', 'ENGLISH', 'FRENCH', 'ENGLISH', 'FRENCH', 'FRENCH', 'ENGLISH', 'ENGLISH', 'FRENCH', 'FRENCH', 'FRENCH', 'FRENCH', 'ENGLISH', 'ENGLISH', 'FRENCH', 'ENGLISH', 'ENGLISH', 'ENGLISH', 'ENGLISH', 'FRENCH', 'ENGLISH', 'ENGLISH', 'FRENCH', 'FRENCH', 'FRENCH', 'FRENCH', 'FRENCH', 'FRENCH', 'ENGLISH', 'FRENCH', 'ENGLISH', 'FRENCH', 'ENGLISH', 'ENGLISH', 'ENGLISH', 'FRENCH', 'FRENCH', 'ENGLISH', 'FRENCH', 'FRENCH', 'ENGLISH', 'FRENCH', 'ENGLISH', 'FRENCH', 'FRENCH', 'FRENCH', 'FRENCH', 'ENGLISH', 'FRENCH', 'FRENCH', 'ENGLISH', 'ENGLISH', 'ENGLISH', 'FRENCH', 'ENGLISH', 'FRENCH', 'ENGLISH', 'ENGLISH', 'FRENCH', 'FRENCH', 'ENGLISH', 'FRENCH', 'FRENCH', 'FRENCH', 'ENGLISH', 'FRENCH', 'ENGLISH', 'FRENCH', 'FRENCH', 'FRENCH', 'FRENCH', 'ENGLISH', 'FRENCH', 'ENGLISH', 'ENGLISH', 'ENGLISH', 'ENGLISH', 'FRENCH', 'ENGLISH', 'FRENCH', 'ENGLISH', 'FRENCH', 'ENGLISH', 'ENGLISH', 'ENGLISH', 'FRENCH', 'ENGLISH', 'FRENCH', 'FRENCH', 'FRENCH', 'FRENCH', 'FRENCH', 'FRENCH', 'FRENCH', 'ENGLISH', 'FRENCH', 'ENGLISH', 'ENGLISH', 'FRENCH', 'FRENCH', 'ENGLISH', 'FRENCH', 'ENGLISH', 'ENGLISH', 'FRENCH', 'FRENCH', 'FRENCH', 'FRENCH', 'FRENCH', 'ENGLISH', 'FRENCH', 'FRENCH', 'FRENCH', 'FRENCH', 'ENGLISH', 'ENGLISH', 'FRENCH', 'ENGLISH', 'FRENCH', 'ENGLISH', 'ENGLISH', 'FRENCH', 'ENGLISH', 'FRENCH', 'FRENCH', 'ENGLISH', 'FRENCH', 'ENGLISH', 'FRENCH', 'FRENCH', 'ENGLISH', 'FRENCH', 'FRENCH', 'ENGLISH', 'ENGLISH', 'ENGLISH', 'ENGLISH', 'ENGLISH', 'FRENCH', 'FRENCH', 'ENGLISH', 'FRENCH', 'ENGLISH', 'ENGLISH', 'FRENCH', 'FRENCH', 'FRENCH', 'FRENCH', 'ENGLISH', 'FRENCH', 'FRENCH', 'FRENCH', 'FRENCH', 'ENGLISH', 'FRENCH', 'FRENCH', 'FRENCH', 'FRENCH', 'ENGLISH', 'FRENCH', 'ENGLISH', 'ENGLISH', 'ENGLISH', 'FRENCH', 'ENGLISH', 'ENGLISH', 'ENGLISH', 'ENGLISH', 'FRENCH', 'FRENCH', 'ENGLISH', 'FRENCH', 'ENGLISH', 'ENGLISH', 'FRENCH', 'FRENCH', 'FRENCH', 'FRENCH', 'ENGLISH', 'FRENCH', 'FRENCH', 'FRENCH', 'ENGLISH', 'ENGLISH', 'ENGLISH', 'ENGLISH', 'FRENCH', 'FRENCH', 'ENGLISH', 'FRENCH', 'FRENCH', 'ENGLISH', 'ENGLISH', 'ENGLISH', 'FRENCH', 'ENGLISH', 'FRENCH', 'FRENCH', 'FRENCH', 'FRENCH', 'FRENCH', 'FRENCH', 'FRENCH', 'ENGLISH', 'FRENCH', 'ENGLISH', 'FRENCH', 'FRENCH', 'ENGLISH', 'ENGLISH', 'ENGLISH', 'ENGLISH', 'ENGLISH', 'FRENCH', 'FRENCH', 'ENGLISH', 'ENGLISH', 'ENGLISH', 'FRENCH', 'ENGLISH', 'FRENCH', 'FRENCH', 'FRENCH', 'FRENCH', 'ENGLISH', 'FRENCH', 'ENGLISH', 'FRENCH', 'ENGLISH', 'FRENCH', 'ENGLISH', 'FRENCH', 'ENGLISH', 'ENGLISH', 'ENGLISH', 'FRENCH', 'FRENCH', 'ENGLISH', 'FRENCH', 'FRENCH', 'ENGLISH', 'FRENCH', 'FRENCH', 'FRENCH', 'FRENCH', 'FRENCH', 'ENGLISH', 'ENGLISH', 'ENGLISH', 'ENGLISH', 'ENGLISH', 'FRENCH', 'FRENCH', 'FRENCH', 'FRENCH', 'FRENCH', 'FRENCH', 'ENGLISH', 'ENGLISH', 'ENGLISH', 'FRENCH', 'ENGLISH', 'FRENCH', 'ENGLISH', 'FRENCH', 'ENGLISH', 'FRENCH', 'FRENCH', 'FRENCH', 'FRENCH', 'ENGLISH', 'ENGLISH', 'FRENCH', 'FRENCH', 'FRENCH', 'FRENCH', 'FRENCH', 'FRENCH', 'FRENCH', 'FRENCH', 'FRENCH', 'FRENCH', 'ENGLISH', 'FRENCH', 'ENGLISH', 'ENGLISH', 'FRENCH', 'FRENCH', 'ENGLISH', 'FRENCH', 'FRENCH', 'FRENCH', 'FRENCH', 'FRENCH', 'ENGLISH', 'FRENCH', 'FRENCH', 'FRENCH', 'ENGLISH', 'ENGLISH', 'FRENCH', 'FRENCH', 'FRENCH', 'FRENCH', 'ENGLISH', 'FRENCH', 'FRENCH', 'ENGLISH', 'FRENCH', 'ENGLISH', 'ENGLISH', 'ENGLISH', 'FRENCH', 'FRENCH', 'FRENCH', 'ENGLISH', 'FRENCH', 'FRENCH', 'ENGLISH', 'FRENCH', 'FRENCH', 'FRENCH', 'ENGLISH', 'FRENCH', 'ENGLISH', 'ENGLISH', 'ENGLISH', 'ENGLISH', 'ENGLISH', 'ENGLISH', 'FRENCH', 'ENGLISH', 'ENGLISH', 'ENGLISH', 'FRENCH', 'FRENCH', 'ENGLISH', 'ENGLISH', 'FRENCH', 'ENGLISH', 'ENGLISH', 'FRENCH', 'FRENCH', 'ENGLISH', 'FRENCH', 'FRENCH', 'ENGLISH', 'FRENCH', 'FRENCH', 'FRENCH', 'FRENCH', 'ENGLISH', 'FRENCH', 'FRENCH', 'FRENCH', 'ENGLISH', 'ENGLISH', 'FRENCH', 'ENGLISH', 'FRENCH', 'FRENCH', 'ENGLISH', 'FRENCH', 'ENGLISH', 'ENGLISH', 'FRENCH', 'FRENCH', 'ENGLISH', 'FRENCH', 'FRENCH', 'FRENCH', 'FRENCH', 'ENGLISH', 'FRENCH', 'FRENCH', 'FRENCH', 'FRENCH', 'FRENCH', 'FRENCH', 'FRENCH', 'ENGLISH', 'FRENCH', 'ENGLISH', 'FRENCH', 'ENGLISH', 'FRENCH', 'ENGLISH', 'ENGLISH', 'ENGLISH', 'FRENCH', 'FRENCH', 'FRENCH', 'FRENCH', 'FRENCH', 'FRENCH', 'FRENCH', 'ENGLISH', 'ENGLISH', 'FRENCH', 'ENGLISH', 'FRENCH', 'ENGLISH', 'FRENCH', 'FRENCH', 'ENGLISH', 'ENGLISH', 'FRENCH', 'FRENCH', 'ENGLISH', 'FRENCH', 'FRENCH', 'ENGLISH', 'FRENCH', 'ENGLISH', 'FRENCH', 'FRENCH', 'ENGLISH', 'FRENCH', 'ENGLISH', 'FRENCH', 'ENGLISH', 'FRENCH', 'FRENCH', 'FRENCH', 'FRENCH', 'FRENCH', 'FRENCH', 'FRENCH', 'FRENCH', 'ENGLISH', 'ENGLISH', 'ENGLISH', 'FRENCH', 'ENGLISH', 'ENGLISH', 'ENGLISH', 'ENGLISH', 'ENGLISH', 'FRENCH', 'FRENCH', 'FRENCH', 'ENGLISH', 'FRENCH', 'ENGLISH', 'FRENCH', 'FRENCH', 'FRENCH', 'FRENCH', 'ENGLISH', 'FRENCH', 'ENGLISH', 'FRENCH', 'FRENCH', 'FRENCH', 'ENGLISH', 'FRENCH', 'FRENCH', 'FRENCH', 'FRENCH', 'FRENCH', 'ENGLISH', 'FRENCH', 'FRENCH', 'ENGLISH', 'FRENCH', 'FRENCH', 'FRENCH', 'ENGLISH', 'ENGLISH', 'FRENCH', 'ENGLISH', 'ENGLISH', 'FRENCH', 'ENGLISH', 'ENGLISH', 'FRENCH', 'FRENCH', 'ENGLISH', 'ENGLISH', 'FRENCH', 'FRENCH', 'FRENCH', 'FRENCH', 'FRENCH', 'FRENCH', 'FRENCH', 'FRENCH', 'ENGLISH', 'ENGLISH', 'ENGLISH', 'ENGLISH', 'FRENCH', 'FRENCH', 'FRENCH', 'FRENCH', 'ENGLISH', 'ENGLISH', 'ENGLISH', 'ENGLISH', 'FRENCH', 'ENGLISH', 'ENGLISH', 'FRENCH', 'FRENCH', 'FRENCH', 'ENGLISH', 'FRENCH', 'FRENCH', 'FRENCH', 'FRENCH', 'FRENCH', 'FRENCH', 'FRENCH', 'FRENCH', 'FRENCH', 'ENGLISH', 'FRENCH', 'FRENCH', 'ENGLISH', 'ENGLISH', 'ENGLISH', 'FRENCH', 'FRENCH', 'ENGLISH', 'FRENCH', 'FRENCH', 'ENGLISH', 'FRENCH', 'FRENCH', 'FRENCH', 'FRENCH', 'ENGLISH', 'ENGLISH', 'ENGLISH', 'FRENCH', 'FRENCH', 'ENGLISH', 'FRENCH', 'FRENCH', 'FRENCH', 'ENGLISH', 'ENGLISH', 'ENGLISH', 'ENGLISH', 'FRENCH', 'ENGLISH', 'ENGLISH', 'ENGLISH', 'ENGLISH', 'FRENCH', 'FRENCH', 'FRENCH', 'FRENCH', 'FRENCH', 'ENGLISH', 'ENGLISH', 'FRENCH', 'ENGLISH', 'ENGLISH', 'FRENCH', 'ENGLISH', 'ENGLISH', 'FRENCH', 'FRENCH', 'FRENCH', 'FRENCH', 'FRENCH', 'ENGLISH', 'FRENCH', 'FRENCH', 'FRENCH', 'ENGLISH', 'ENGLISH', 'FRENCH', 'FRENCH', 'ENGLISH', 'ENGLISH', 'ENGLISH', 'FRENCH', 'FRENCH', 'ENGLISH', 'ENGLISH', 'ENGLISH', 'FRENCH', 'FRENCH', 'ENGLISH', 'FRENCH', 'FRENCH', 'ENGLISH', 'FRENCH', 'ENGLISH', 'ENGLISH', 'ENGLISH', 'FRENCH', 'ENGLISH', 'ENGLISH', 'ENGLISH', 'ENGLISH', 'ENGLISH', 'ENGLISH', 'ENGLISH', 'FRENCH', 'FRENCH', 'FRENCH', 'ENGLISH', 'FRENCH', 'FRENCH', 'ENGLISH', 'ENGLISH', 'ENGLISH', 'ENGLISH', 'ENGLISH', 'FRENCH', 'ENGLISH', 'FRENCH', 'ENGLISH', 'ENGLISH', 'ENGLISH', 'FRENCH', 'ENGLISH', 'ENGLISH', 'ENGLISH', 'FRENCH', 'FRENCH', 'ENGLISH', 'FRENCH', 'ENGLISH', 'FRENCH', 'FRENCH', 'ENGLISH', 'FRENCH', 'ENGLISH', 'FRENCH', 'FRENCH', 'FRENCH', 'ENGLISH', 'ENGLISH', 'FRENCH', 'FRENCH', 'ENGLISH', 'FRENCH', 'FRENCH', 'FRENCH', 'ENGLISH', 'FRENCH', 'FRENCH', 'FRENCH', 'ENGLISH', 'ENGLISH', 'FRENCH', 'ENGLISH', 'FRENCH', 'FRENCH', 'ENGLISH', 'FRENCH', 'ENGLISH', 'ENGLISH', 'ENGLISH', 'FRENCH', 'FRENCH', 'FRENCH', 'FRENCH', 'ENGLISH', 'FRENCH', 'ENGLISH', 'ENGLISH', 'FRENCH', 'FRENCH', 'ENGLISH', 'FRENCH', 'ENGLISH', 'ENGLISH', 'FRENCH', 'FRENCH', 'FRENCH', 'ENGLISH', 'FRENCH', 'FRENCH', 'FRENCH', 'FRENCH', 'ENGLISH', 'FRENCH', 'FRENCH', 'FRENCH', 'ENGLISH', 'FRENCH', 'ENGLISH', 'FRENCH', 'FRENCH', 'ENGLISH', 'ENGLISH', 'ENGLISH', 'ENGLISH', 'FRENCH', 'ENGLISH', 'ENGLISH', 'FRENCH', 'ENGLISH', 'FRENCH', 'FRENCH', 'FRENCH', 'FRENCH', 'FRENCH', 'FRENCH', 'ENGLISH', 'FRENCH', 'FRENCH', 'ENGLISH', 'ENGLISH', 'ENGLISH', 'FRENCH', 'ENGLISH', 'ENGLISH', 'ENGLISH', 'FRENCH', 'FRENCH', 'FRENCH', 'ENGLISH', 'ENGLISH', 'FRENCH', 'ENGLISH', 'ENGLISH', 'FRENCH', 'ENGLISH', 'ENGLISH', 'ENGLISH', 'ENGLISH', 'FRENCH', 'FRENCH', 'ENGLISH', 'FRENCH', 'FRENCH', 'ENGLISH', 'FRENCH', 'ENGLISH', 'ENGLISH', 'FRENCH', 'ENGLISH', 'ENGLISH', 'ENGLISH', 'ENGLISH', 'FRENCH', 'ENGLISH', 'ENGLISH', 'FRENCH', 'ENGLISH', 'FRENCH', 'FRENCH', 'FRENCH', 'ENGLISH', 'ENGLISH', 'FRENCH', 'ENGLISH', 'FRENCH', 'ENGLISH', 'ENGLISH', 'FRENCH', 'ENGLISH', 'FRENCH', 'ENGLISH', 'FRENCH', 'ENGLISH', 'FRENCH', 'FRENCH', 'FRENCH', 'FRENCH', 'FRENCH', 'FRENCH', 'FRENCH', 'ENGLISH', 'FRENCH', 'FRENCH', 'ENGLISH', 'ENGLISH', 'FRENCH', 'ENGLISH', 'ENGLISH', 'FRENCH', 'ENGLISH', 'ENGLISH', 'ENGLISH', 'FRENCH', 'ENGLISH', 'FRENCH', 'ENGLISH', 'ENGLISH', 'ENGLISH', 'FRENCH', 'ENGLISH', 'ENGLISH', 'FRENCH', 'ENGLISH', 'ENGLISH', 'ENGLISH', 'FRENCH', 'FRENCH', 'FRENCH', 'ENGLISH', 'FRENCH', 'FRENCH', 'ENGLISH', 'FRENCH', 'FRENCH', 'ENGLISH', 'ENGLISH', 'FRENCH', 'ENGLISH', 'FRENCH', 'FRENCH', 'ENGLISH', 'ENGLISH', 'ENGLISH', 'ENGLISH', 'ENGLISH', 'ENGLISH', 'ENGLISH', 'FRENCH', 'ENGLISH', 'FRENCH', 'FRENCH', 'FRENCH', 'ENGLISH', 'FRENCH', 'ENGLISH', 'ENGLISH', 'FRENCH', 'FRENCH', 'FRENCH', 'ENGLISH', 'ENGLISH', 'ENGLISH', 'ENGLISH', 'ENGLISH', 'FRENCH', 'FRENCH', 'ENGLISH', 'FRENCH', 'FRENCH', 'FRENCH', 'FRENCH', 'FRENCH', 'FRENCH', 'ENGLISH', 'FRENCH', 'FRENCH', 'ENGLISH', 'ENGLISH', 'FRENCH', 'FRENCH', 'FRENCH', 'FRENCH', 'FRENCH', 'FRENCH', 'ENGLISH', 'ENGLISH', 'FRENCH', 'ENGLISH', 'FRENCH', 'ENGLISH', 'FRENCH', 'ENGLISH', 'FRENCH', 'FRENCH', 'ENGLISH', 'ENGLISH', 'ENGLISH', 'FRENCH', 'ENGLISH', 'FRENCH', 'ENGLISH', 'FRENCH', 'FRENCH', 'FRENCH', 'ENGLISH', 'ENGLISH', 'ENGLISH', 'FRENCH', 'FRENCH', 'FRENCH', 'ENGLISH', 'FRENCH', 'ENGLISH', 'FRENCH', 'ENGLISH', 'FRENCH', 'FRENCH', 'FRENCH', 'FRENCH', 'ENGLISH', 'FRENCH', 'ENGLISH', 'ENGLISH', 'ENGLISH', 'FRENCH', 'ENGLISH', 'ENGLISH', 'FRENCH', 'FRENCH', 'ENGLISH', 'FRENCH', 'FRENCH', 'ENGLISH', 'ENGLISH', 'FRENCH', 'ENGLISH', 'ENGLISH', 'ENGLISH', 'ENGLISH', 'FRENCH', 'FRENCH', 'ENGLISH', 'ENGLISH', 'ENGLISH', 'ENGLISH', 'ENGLISH', 'ENGLISH', 'ENGLISH', 'ENGLISH', 'FRENCH', 'ENGLISH', 'FRENCH', 'ENGLISH', 'FRENCH', 'FRENCH', 'ENGLISH', 'FRENCH', 'ENGLISH', 'FRENCH', 'FRENCH', 'FRENCH', 'ENGLISH', 'FRENCH', 'FRENCH', 'FRENCH', 'FRENCH', 'ENGLISH', 'FRENCH', 'FRENCH', 'FRENCH', 'FRENCH', 'ENGLISH', 'FRENCH', 'FRENCH', 'FRENCH', 'FRENCH', 'FRENCH', 'FRENCH', 'FRENCH', 'ENGLISH', 'ENGLISH', 'FRENCH', 'ENGLISH', 'ENGLISH', 'ENGLISH', 'FRENCH', 'FRENCH', 'ENGLISH', 'ENGLISH', 'FRENCH', 'ENGLISH', 'FRENCH', 'FRENCH', 'ENGLISH', 'ENGLISH', 'FRENCH', 'ENGLISH', 'ENGLISH', 'ENGLISH', 'FRENCH', 'ENGLISH', 'FRENCH', 'ENGLISH', 'FRENCH', 'FRENCH', 'FRENCH', 'FRENCH', 'FRENCH', 'FRENCH', 'FRENCH', 'ENGLISH', 'ENGLISH', 'FRENCH', 'ENGLISH', 'FRENCH', 'ENGLISH', 'ENGLISH', 'FRENCH', 'FRENCH', 'ENGLISH', 'FRENCH', 'ENGLISH', 'ENGLISH', 'FRENCH', 'ENGLISH', 'FRENCH', 'FRENCH', 'FRENCH', 'ENGLISH', 'FRENCH', 'FRENCH', 'FRENCH', 'FRENCH', 'FRENCH', 'FRENCH', 'FRENCH', 'ENGLISH', 'ENGLISH', 'ENGLISH', 'ENGLISH', 'ENGLISH', 'ENGLISH', 'FRENCH', 'FRENCH', 'FRENCH', 'FRENCH', 'ENGLISH', 'FRENCH', 'FRENCH', 'FRENCH', 'FRENCH', 'ENGLISH', 'ENGLISH', 'ENGLISH', 'FRENCH', 'ENGLISH', 'FRENCH', 'ENGLISH', 'ENGLISH', 'ENGLISH', 'FRENCH', 'FRENCH', 'FRENCH', 'FRENCH', 'ENGLISH', 'FRENCH', 'ENGLISH', 'FRENCH', 'FRENCH', 'FRENCH', 'FRENCH', 'FRENCH', 'ENGLISH', 'FRENCH', 'FRENCH', 'FRENCH', 'ENGLISH', 'ENGLISH', 'FRENCH', 'ENGLISH', 'FRENCH', 'FRENCH', 'ENGLISH', 'ENGLISH', 'ENGLISH', 'ENGLISH', 'ENGLISH', 'FRENCH', 'FRENCH', 'ENGLISH', 'FRENCH', 'FRENCH', 'ENGLISH', 'ENGLISH', 'FRENCH', 'FRENCH', 'FRENCH', 'FRENCH', 'FRENCH', 'ENGLISH', 'ENGLISH', 'FRENCH', 'FRENCH', 'ENGLISH', 'ENGLISH', 'ENGLISH', 'FRENCH', 'FRENCH', 'ENGLISH', 'ENGLISH', 'FRENCH', 'FRENCH', 'ENGLISH', 'FRENCH', 'ENGLISH', 'FRENCH', 'ENGLISH', 'ENGLISH', 'ENGLISH', 'ENGLISH', 'FRENCH', 'ENGLISH', 'FRENCH', 'ENGLISH', 'ENGLISH', 'FRENCH', 'ENGLISH', 'FRENCH', 'FRENCH', 'ENGLISH', 'FRENCH', 'FRENCH', 'FRENCH', 'FRENCH', 'FRENCH', 'ENGLISH', 'FRENCH', 'FRENCH', 'ENGLISH', 'FRENCH', 'ENGLISH', 'ENGLISH', 'ENGLISH', 'FRENCH', 'FRENCH', 'ENGLISH', 'FRENCH', 'ENGLISH', 'FRENCH', 'ENGLISH', 'ENGLISH', 'ENGLISH', 'FRENCH', 'ENGLISH', 'FRENCH', 'FRENCH', 'FRENCH', 'FRENCH', 'ENGLISH', 'ENGLISH', 'ENGLISH', 'ENGLISH', 'ENGLISH', 'ENGLISH', 'ENGLISH', 'FRENCH', 'FRENCH', 'FRENCH', 'ENGLISH', 'ENGLISH', 'ENGLISH', 'FRENCH', 'ENGLISH', 'FRENCH', 'FRENCH', 'FRENCH', 'ENGLISH', 'ENGLISH', 'FRENCH', 'FRENCH', 'FRENCH', 'FRENCH', 'FRENCH', 'FRENCH', 'ENGLISH', 'FRENCH', 'ENGLISH', 'ENGLISH', 'ENGLISH', 'ENGLISH', 'ENGLISH', 'ENGLISH', 'ENGLISH', 'ENGLISH', 'FRENCH', 'FRENCH', 'ENGLISH', 'FRENCH', 'FRENCH', 'FRENCH', 'FRENCH', 'FRENCH', 'FRENCH', 'ENGLISH', 'FRENCH', 'FRENCH', 'FRENCH', 'FRENCH', 'FRENCH', 'FRENCH', 'ENGLISH', 'ENGLISH', 'FRENCH', 'FRENCH', 'ENGLISH', 'ENGLISH', 'ENGLISH', 'FRENCH', 'FRENCH', 'FRENCH', 'ENGLISH', 'ENGLISH', 'FRENCH', 'FRENCH', 'FRENCH', 'ENGLISH', 'FRENCH', 'ENGLISH', 'ENGLISH', 'ENGLISH', 'FRENCH', 'FRENCH', 'FRENCH', 'ENGLISH', 'ENGLISH', 'ENGLISH', 'ENGLISH', 'FRENCH', 'FRENCH', 'ENGLISH', 'FRENCH', 'FRENCH', 'FRENCH', 'ENGLISH', 'FRENCH', 'ENGLISH', 'FRENCH', 'FRENCH', 'FRENCH', 'FRENCH', 'FRENCH', 'ENGLISH', 'FRENCH', 'FRENCH', 'ENGLISH', 'ENGLISH', 'ENGLISH', 'FRENCH', 'FRENCH', 'ENGLISH', 'FRENCH', 'FRENCH', 'FRENCH', 'FRENCH', 'FRENCH', 'ENGLISH', 'ENGLISH', 'FRENCH', 'ENGLISH', 'FRENCH', 'FRENCH', 'FRENCH', 'FRENCH', 'FRENCH', 'FRENCH', 'ENGLISH', 'ENGLISH', 'FRENCH', 'FRENCH', 'ENGLISH', 'ENGLISH', 'ENGLISH', 'ENGLISH', 'ENGLISH', 'FRENCH', 'ENGLISH', 'FRENCH', 'ENGLISH', 'ENGLISH', 'ENGLISH', 'FRENCH', 'FRENCH', 'ENGLISH', 'FRENCH', 'FRENCH', 'FRENCH', 'FRENCH', 'ENGLISH', 'ENGLISH', 'FRENCH', 'FRENCH', 'FRENCH', 'ENGLISH', 'ENGLISH', 'ENGLISH', 'FRENCH', 'ENGLISH', 'FRENCH', 'FRENCH', 'ENGLISH', 'ENGLISH', 'FRENCH', 'FRENCH', 'FRENCH', 'FRENCH', 'FRENCH', 'FRENCH', 'ENGLISH', 'ENGLISH', 'ENGLISH', 'FRENCH', 'FRENCH', 'ENGLISH', 'ENGLISH', 'FRENCH', 'FRENCH', 'FRENCH', 'FRENCH', 'ENGLISH', 'FRENCH', 'ENGLISH', 'FRENCH', 'ENGLISH', 'ENGLISH', 'FRENCH', 'ENGLISH', 'ENGLISH', 'ENGLISH', 'ENGLISH', 'FRENCH', 'FRENCH', 'FRENCH', 'FRENCH', 'FRENCH', 'FRENCH', 'ENGLISH', 'FRENCH', 'ENGLISH', 'FRENCH', 'ENGLISH', 'FRENCH', 'ENGLISH', 'FRENCH', 'FRENCH', 'FRENCH', 'FRENCH', 'FRENCH', 'FRENCH', 'ENGLISH', 'FRENCH', 'FRENCH', 'FRENCH', 'FRENCH', 'ENGLISH', 'ENGLISH', 'FRENCH', 'ENGLISH', 'FRENCH', 'ENGLISH', 'FRENCH', 'ENGLISH', 'ENGLISH', 'FRENCH', 'ENGLISH', 'FRENCH', 'FRENCH', 'ENGLISH', 'FRENCH', 'FRENCH', 'ENGLISH', 'ENGLISH', 'FRENCH', 'ENGLISH', 'FRENCH', 'ENGLISH', 'FRENCH', 'FRENCH', 'ENGLISH', 'ENGLISH', 'FRENCH', 'FRENCH', 'ENGLISH', 'ENGLISH', 'FRENCH', 'ENGLISH', 'FRENCH', 'ENGLISH', 'FRENCH', 'FRENCH', 'ENGLISH', 'ENGLISH', 'ENGLISH', 'ENGLISH', 'FRENCH', 'FRENCH', 'ENGLISH', 'ENGLISH', 'ENGLISH', 'FRENCH', 'ENGLISH', 'FRENCH', 'FRENCH', 'ENGLISH', 'FRENCH', 'FRENCH', 'ENGLISH', 'ENGLISH', 'ENGLISH', 'ENGLISH', 'ENGLISH', 'FRENCH', 'ENGLISH', 'ENGLISH', 'ENGLISH', 'ENGLISH', 'FRENCH', 'FRENCH', 'FRENCH', 'ENGLISH', 'FRENCH', 'FRENCH', 'FRENCH', 'FRENCH', 'ENGLISH', 'ENGLISH', 'FRENCH', 'ENGLISH', 'FRENCH', 'FRENCH', 'ENGLISH', 'FRENCH', 'ENGLISH', 'FRENCH', 'ENGLISH', 'FRENCH', 'ENGLISH', 'FRENCH', 'FRENCH', 'ENGLISH', 'FRENCH', 'ENGLISH', 'ENGLISH', 'ENGLISH', 'ENGLISH', 'FRENCH', 'FRENCH', 'FRENCH', 'ENGLISH', 'ENGLISH', 'ENGLISH', 'FRENCH', 'FRENCH', 'FRENCH', 'FRENCH', 'FRENCH', 'ENGLISH', 'FRENCH', 'FRENCH', 'FRENCH', 'ENGLISH', 'ENGLISH', 'ENGLISH', 'FRENCH', 'ENGLISH', 'FRENCH', 'ENGLISH', 'ENGLISH', 'ENGLISH', 'FRENCH', 'FRENCH', 'ENGLISH', 'FRENCH', 'ENGLISH', 'ENGLISH', 'ENGLISH', 'FRENCH', 'FRENCH', 'ENGLISH', 'FRENCH', 'FRENCH', 'ENGLISH', 'FRENCH', 'ENGLISH', 'FRENCH', 'ENGLISH', 'ENGLISH', 'ENGLISH', 'FRENCH', 'FRENCH', 'ENGLISH', 'FRENCH', 'ENGLISH', 'ENGLISH', 'FRENCH', 'FRENCH', 'FRENCH', 'FRENCH', 'ENGLISH', 'FRENCH', 'FRENCH', 'FRENCH', 'ENGLISH', 'ENGLISH', 'FRENCH', 'FRENCH', 'FRENCH', 'FRENCH', 'FRENCH', 'ENGLISH', 'FRENCH', 'FRENCH', 'ENGLISH', 'FRENCH', 'ENGLISH', 'ENGLISH', 'FRENCH', 'FRENCH', 'ENGLISH', 'FRENCH', 'FRENCH', 'FRENCH', 'ENGLISH', 'FRENCH', 'ENGLISH', 'ENGLISH', 'FRENCH', 'FRENCH', 'ENGLISH', 'FRENCH', 'ENGLISH', 'ENGLISH', 'ENGLISH', 'ENGLISH', 'ENGLISH', 'FRENCH', 'ENGLISH', 'ENGLISH', 'FRENCH', 'FRENCH', 'FRENCH', 'FRENCH', 'FRENCH', 'FRENCH', 'FRENCH', 'ENGLISH', 'FRENCH', 'FRENCH', 'FRENCH', 'FRENCH', 'FRENCH', 'FRENCH', 'FRENCH', 'FRENCH', 'FRENCH', 'ENGLISH', 'FRENCH', 'FRENCH', 'FRENCH', 'ENGLISH', 'ENGLISH', 'FRENCH', 'FRENCH', 'FRENCH', 'ENGLISH', 'ENGLISH', 'FRENCH', 'FRENCH', 'FRENCH', 'ENGLISH', 'FRENCH', 'FRENCH', 'FRENCH', 'FRENCH', 'FRENCH', 'FRENCH', 'ENGLISH', 'FRENCH', 'FRENCH', 'ENGLISH', 'ENGLISH', 'FRENCH', 'ENGLISH', 'ENGLISH', 'FRENCH', 'FRENCH', 'ENGLISH', 'FRENCH', 'FRENCH', 'FRENCH', 'FRENCH', 'FRENCH', 'FRENCH', 'FRENCH', 'ENGLISH', 'ENGLISH', 'FRENCH', 'ENGLISH', 'ENGLISH', 'ENGLISH', 'ENGLISH', 'ENGLISH', 'FRENCH', 'ENGLISH', 'FRENCH', 'ENGLISH', 'ENGLISH', 'FRENCH', 'ENGLISH', 'FRENCH', 'FRENCH', 'ENGLISH', 'ENGLISH', 'ENGLISH', 'FRENCH', 'ENGLISH', 'FRENCH', 'ENGLISH', 'FRENCH', 'FRENCH', 'ENGLISH', 'ENGLISH', 'ENGLISH', 'FRENCH', 'FRENCH', 'FRENCH', 'FRENCH', 'ENGLISH', 'ENGLISH', 'FRENCH', 'ENGLISH', 'FRENCH', 'ENGLISH', 'FRENCH', 'FRENCH', 'FRENCH', 'FRENCH', 'ENGLISH', 'ENGLISH', 'FRENCH', 'ENGLISH', 'FRENCH', 'ENGLISH', 'FRENCH', 'FRENCH', 'ENGLISH', 'FRENCH', 'FRENCH', 'FRENCH', 'ENGLISH', 'FRENCH', 'FRENCH', 'FRENCH', 'ENGLISH', 'FRENCH', 'FRENCH', 'ENGLISH', 'FRENCH', 'ENGLISH', 'FRENCH', 'FRENCH', 'FRENCH', 'ENGLISH', 'FRENCH', 'FRENCH', 'FRENCH', 'FRENCH', 'ENGLISH', 'FRENCH', 'ENGLISH', 'FRENCH', 'ENGLISH', 'FRENCH', 'FRENCH', 'FRENCH', 'ENGLISH', 'FRENCH', 'FRENCH', 'ENGLISH', 'FRENCH', 'ENGLISH', 'FRENCH', 'FRENCH', 'FRENCH', 'ENGLISH', 'ENGLISH', 'ENGLISH', 'ENGLISH', 'ENGLISH', 'ENGLISH', 'ENGLISH', 'ENGLISH', 'FRENCH', 'ENGLISH', 'ENGLISH', 'FRENCH', 'FRENCH', 'ENGLISH', 'FRENCH', 'FRENCH', 'FRENCH', 'FRENCH', 'FRENCH', 'FRENCH', 'FRENCH', 'ENGLISH', 'ENGLISH', 'ENGLISH', 'FRENCH', 'FRENCH', 'FRENCH', 'FRENCH', 'ENGLISH', 'FRENCH', 'ENGLISH', 'FRENCH', 'FRENCH', 'FRENCH', 'ENGLISH', 'FRENCH', 'FRENCH', 'FRENCH', 'FRENCH', 'FRENCH', 'FRENCH', 'ENGLISH', 'FRENCH', 'FRENCH', 'ENGLISH', 'FRENCH', 'ENGLISH', 'ENGLISH', 'FRENCH', 'FRENCH', 'ENGLISH', 'ENGLISH', 'FRENCH', 'ENGLISH', 'FRENCH', 'FRENCH', 'FRENCH', 'ENGLISH', 'FRENCH', 'ENGLISH', 'ENGLISH', 'FRENCH', 'ENGLISH', 'ENGLISH', 'FRENCH', 'ENGLISH', 'FRENCH', 'ENGLISH', 'ENGLISH', 'ENGLISH', 'ENGLISH', 'ENGLISH', 'FRENCH', 'FRENCH', 'ENGLISH', 'ENGLISH', 'ENGLISH', 'ENGLISH', 'ENGLISH', 'ENGLISH', 'ENGLISH', 'FRENCH', 'FRENCH', 'ENGLISH', 'ENGLISH', 'ENGLISH', 'FRENCH', 'FRENCH', 'FRENCH', 'ENGLISH', 'FRENCH', 'FRENCH', 'FRENCH', 'ENGLISH', 'FRENCH', 'ENGLISH', 'FRENCH', 'ENGLISH', 'FRENCH', 'ENGLISH', 'FRENCH', 'FRENCH', 'ENGLISH', 'FRENCH', 'FRENCH', 'FRENCH', 'ENGLISH', 'ENGLISH', 'FRENCH', 'ENGLISH', 'ENGLISH', 'FRENCH', 'ENGLISH', 'FRENCH', 'ENGLISH', 'FRENCH', 'ENGLISH', 'ENGLISH', 'FRENCH', 'FRENCH', 'FRENCH', 'ENGLISH', 'FRENCH', 'FRENCH', 'FRENCH', 'ENGLISH', 'FRENCH', 'FRENCH', 'FRENCH', 'ENGLISH', 'ENGLISH', 'ENGLISH', 'ENGLISH', 'ENGLISH', 'ENGLISH', 'FRENCH', 'ENGLISH', 'FRENCH', 'ENGLISH', 'FRENCH', 'ENGLISH', 'FRENCH', 'FRENCH', 'FRENCH', 'ENGLISH', 'FRENCH', 'ENGLISH', 'FRENCH', 'ENGLISH', 'FRENCH', 'FRENCH', 'ENGLISH', 'ENGLISH', 'FRENCH', 'FRENCH', 'ENGLISH', 'FRENCH', 'ENGLISH', 'FRENCH', 'FRENCH', 'FRENCH', 'FRENCH', 'ENGLISH', 'FRENCH', 'FRENCH', 'FRENCH', 'ENGLISH', 'ENGLISH', 'FRENCH', 'ENGLISH', 'ENGLISH', 'FRENCH', 'ENGLISH', 'FRENCH', 'ENGLISH', 'FRENCH', 'ENGLISH', 'FRENCH', 'ENGLISH', 'ENGLISH', 'FRENCH', 'FRENCH', 'FRENCH', 'ENGLISH', 'ENGLISH', 'FRENCH', 'FRENCH', 'FRENCH', 'ENGLISH', 'ENGLISH', 'ENGLISH', 'FRENCH', 'ENGLISH', 'FRENCH', 'FRENCH', 'ENGLISH', 'ENGLISH', 'ENGLISH', 'ENGLISH', 'ENGLISH', 'ENGLISH', 'FRENCH', 'FRENCH', 'ENGLISH', 'FRENCH', 'FRENCH', 'ENGLISH', 'ENGLISH', 'ENGLISH', 'ENGLISH', 'FRENCH', 'ENGLISH', 'ENGLISH', 'FRENCH', 'FRENCH', 'ENGLISH', 'FRENCH', 'FRENCH', 'ENGLISH', 'FRENCH', 'ENGLISH', 'ENGLISH', 'FRENCH', 'FRENCH', 'FRENCH', 'FRENCH', 'ENGLISH', 'ENGLISH', 'ENGLISH', 'ENGLISH', 'ENGLISH', 'ENGLISH', 'FRENCH', 'FRENCH', 'ENGLISH', 'ENGLISH', 'ENGLISH', 'FRENCH', 'FRENCH', 'FRENCH', 'FRENCH', 'ENGLISH', 'ENGLISH', 'ENGLISH', 'FRENCH', 'ENGLISH', 'FRENCH', 'FRENCH', 'ENGLISH', 'ENGLISH', 'ENGLISH', 'FRENCH', 'FRENCH', 'FRENCH', 'FRENCH', 'FRENCH', 'ENGLISH', 'ENGLISH', 'FRENCH', 'ENGLISH', 'FRENCH', 'FRENCH', 'ENGLISH', 'FRENCH', 'ENGLISH', 'FRENCH', 'ENGLISH', 'FRENCH', 'FRENCH', 'FRENCH', 'ENGLISH', 'FRENCH', 'ENGLISH', 'FRENCH', 'FRENCH', 'FRENCH', 'FRENCH', 'FRENCH', 'ENGLISH', 'ENGLISH', 'FRENCH', 'ENGLISH', 'ENGLISH', 'FRENCH', 'FRENCH', 'ENGLISH', 'FRENCH', 'FRENCH', 'FRENCH', 'FRENCH', 'ENGLISH', 'FRENCH', 'FRENCH', 'FRENCH', 'ENGLISH', 'FRENCH', 'FRENCH', 'ENGLISH', 'FRENCH', 'FRENCH', 'FRENCH', 'ENGLISH', 'ENGLISH', 'ENGLISH', 'FRENCH', 'ENGLISH', 'ENGLISH', 'ENGLISH', 'ENGLISH', 'ENGLISH', 'ENGLISH', 'ENGLISH', 'ENGLISH', 'FRENCH', 'ENGLISH', 'FRENCH', 'ENGLISH', 'ENGLISH', 'ENGLISH', 'ENGLISH', 'ENGLISH', 'ENGLISH', 'ENGLISH', 'ENGLISH', 'ENGLISH', 'FRENCH', 'ENGLISH', 'FRENCH', 'ENGLISH', 'FRENCH', 'ENGLISH', 'FRENCH', 'ENGLISH', 'FRENCH', 'ENGLISH', 'ENGLISH', 'ENGLISH', 'ENGLISH', 'ENGLISH', 'ENGLISH', 'FRENCH', 'FRENCH', 'FRENCH', 'ENGLISH', 'ENGLISH', 'FRENCH', 'FRENCH', 'ENGLISH', 'FRENCH', 'ENGLISH', 'FRENCH', 'ENGLISH', 'ENGLISH', 'FRENCH', 'ENGLISH', 'FRENCH', 'ENGLISH', 'ENGLISH', 'ENGLISH', 'ENGLISH', 'ENGLISH', 'ENGLISH', 'ENGLISH', 'ENGLISH', 'ENGLISH', 'ENGLISH', 'FRENCH', 'ENGLISH', 'FRENCH', 'FRENCH', 'ENGLISH', 'ENGLISH', 'ENGLISH', 'FRENCH', 'ENGLISH', 'FRENCH', 'ENGLISH', 'FRENCH', 'FRENCH', 'FRENCH', 'ENGLISH', 'FRENCH', 'FRENCH', 'ENGLISH', 'ENGLISH', 'ENGLISH', 'ENGLISH', 'FRENCH', 'FRENCH', 'FRENCH', 'ENGLISH', 'FRENCH', 'FRENCH', 'ENGLISH', 'FRENCH', 'ENGLISH', 'FRENCH', 'FRENCH', 'ENGLISH', 'ENGLISH', 'ENGLISH', 'FRENCH', 'ENGLISH', 'FRENCH', 'FRENCH', 'FRENCH', 'ENGLISH', 'FRENCH', 'FRENCH', 'ENGLISH', 'ENGLISH', 'ENGLISH', 'FRENCH', 'ENGLISH', 'ENGLISH', 'ENGLISH', 'FRENCH', 'ENGLISH', 'ENGLISH', 'FRENCH', 'FRENCH', 'FRENCH', 'FRENCH', 'FRENCH', 'FRENCH', 'ENGLISH', 'ENGLISH', 'FRENCH', 'ENGLISH', 'FRENCH', 'FRENCH', 'FRENCH', 'FRENCH', 'ENGLISH', 'FRENCH', 'ENGLISH', 'ENGLISH', 'ENGLISH', 'ENGLISH', 'ENGLISH', 'FRENCH', 'FRENCH', 'ENGLISH', 'FRENCH', 'ENGLISH', 'ENGLISH', 'FRENCH', 'FRENCH', 'FRENCH', 'FRENCH', 'FRENCH', 'ENGLISH', 'ENGLISH', 'FRENCH', 'ENGLISH', 'ENGLISH', 'FRENCH', 'ENGLISH', 'FRENCH', 'ENGLISH', 'ENGLISH', 'FRENCH', 'FRENCH', 'FRENCH', 'ENGLISH', 'ENGLISH', 'FRENCH', 'ENGLISH', 'FRENCH', 'FRENCH', 'FRENCH']\n"
          ]
        }
      ],
      "source": [
        "detectlanguage = open(\"Stat NLP/randomboth_test.txt\") \n",
        "texts1 = []\n",
        "labelsone = []\n",
        "for line in detectlanguage:\n",
        "    eachline = line.split(\" \", 1)\n",
        "    label = eachline[0]\n",
        "    text = eachline[1]\n",
        "    stripline = text.strip()\n",
        "    funtext = stripline.rstrip(\"\\n\")\n",
        "    texts1.append(funtext)\n",
        "    labelsone.append(label)\n",
        "print (labelsone)"
      ]
    },
    {
      "cell_type": "markdown",
      "id": "11472013",
      "metadata": {
        "id": "11472013"
      },
      "source": [
        "create label vector for these"
      ]
    },
    {
      "cell_type": "code",
      "execution_count": 22,
      "id": "a80b34f1",
      "metadata": {
        "id": "a80b34f1"
      },
      "outputs": [],
      "source": [
        "labels1 = le.transform(labelsone)"
      ]
    },
    {
      "cell_type": "code",
      "execution_count": 23,
      "id": "49fda3aa",
      "metadata": {
        "id": "49fda3aa",
        "outputId": "05b2d200-a798-4564-d30b-ad6f3a3c4f9e",
        "colab": {
          "base_uri": "https://localhost:8080/"
        }
      },
      "outputs": [
        {
          "output_type": "stream",
          "name": "stdout",
          "text": [
            "(3608, 4712)\n"
          ]
        }
      ],
      "source": [
        "features1 = vectorizer.transform(texts1).toarray()\n",
        "print (features1.shape)"
      ]
    },
    {
      "cell_type": "markdown",
      "id": "74722289",
      "metadata": {
        "id": "74722289"
      },
      "source": [
        "predict"
      ]
    },
    {
      "cell_type": "code",
      "execution_count": 24,
      "id": "a8bb7746",
      "metadata": {
        "id": "a8bb7746",
        "outputId": "e6ffa0ce-4439-4fdd-f19d-aea2f8ab2f45",
        "colab": {
          "base_uri": "https://localhost:8080/"
        }
      },
      "outputs": [
        {
          "output_type": "stream",
          "name": "stdout",
          "text": [
            "[0 0 1 ... 1 1 1]\n"
          ]
        }
      ],
      "source": [
        "predictions = logreg.predict(features1)\n",
        "print (predictions)"
      ]
    },
    {
      "cell_type": "markdown",
      "id": "a6e605e4",
      "metadata": {
        "id": "a6e605e4"
      },
      "source": [
        "Confusion Matrix"
      ]
    },
    {
      "cell_type": "code",
      "execution_count": 25,
      "id": "a45293ad",
      "metadata": {
        "id": "a45293ad"
      },
      "outputs": [],
      "source": [
        "cm = confusion_matrix(labels1, predictions)"
      ]
    },
    {
      "cell_type": "code",
      "execution_count": 26,
      "id": "5d258f96",
      "metadata": {
        "id": "5d258f96"
      },
      "outputs": [],
      "source": [
        "TN, FP, FN, TP = confusion_matrix(labels1, predictions).ravel()"
      ]
    },
    {
      "cell_type": "code",
      "execution_count": 27,
      "id": "d3ca92d6",
      "metadata": {
        "id": "d3ca92d6",
        "outputId": "c935aa7a-0468-4d4f-93ec-5b8df2defa7f",
        "colab": {
          "base_uri": "https://localhost:8080/"
        }
      },
      "outputs": [
        {
          "output_type": "stream",
          "name": "stdout",
          "text": [
            "True Positive(TP)  =  1952\n",
            "False Positive(FP) =  22\n",
            "True Negative(TN)  =  1621\n",
            "False Negative(FN) =  13\n"
          ]
        }
      ],
      "source": [
        "print('True Positive(TP)  = ', TP)\n",
        "print('False Positive(FP) = ', FP)\n",
        "print('True Negative(TN)  = ', TN)\n",
        "print('False Negative(FN) = ', FN)"
      ]
    },
    {
      "cell_type": "code",
      "execution_count": 31,
      "id": "21a9585b",
      "metadata": {
        "id": "21a9585b",
        "outputId": "ec90d121-6d65-4b62-dd21-262828b76638",
        "colab": {
          "base_uri": "https://localhost:8080/",
          "height": 404
        }
      },
      "outputs": [
        {
          "output_type": "display_data",
          "data": {
            "text/plain": [
              "<Figure size 864x432 with 2 Axes>"
            ],
            "image/png": "[encoded data removed]"
          },
          "metadata": {
            "needs_background": "light"
          }
        }
      ],
      "source": [
        "plt.figure(figsize=(12,6))\n",
        "plt.title(\"Confusion Matrix\")\n",
        "sns.heatmap(cm, annot=True,fmt='d', cmap='PuRd')\n",
        "plt.ylabel(\"Actual Values\")\n",
        "plt.xlabel(\"Predicted Values\")\n",
        "plt.savefig('confusion_matrix.png')"
      ]
    },
    {
      "cell_type": "markdown",
      "source": [
        "Get the error analysis data!"
      ],
      "metadata": {
        "id": "BP5SCtCprpfc"
      },
      "id": "BP5SCtCprpfc"
    },
    {
      "cell_type": "code",
      "source": [
        "listFN = []\n",
        "listFP = []\n",
        "for i in range(len(predictions)):\n",
        "    if predictions[i] == 0:\n",
        "        if labels1[i] == 1:\n",
        "            listFP.append((texts1[i], labelsone[i]))\n",
        "    elif predictions[i] == 1:\n",
        "        if labels1[i] == 0:\n",
        "            listFN.append((texts1[i], labelsone[i]))\n",
        "\n",
        "print(\"False Negative: \" + str(listFN))\n",
        "print(\"False Positive: \" + str(listFP))"
      ],
      "metadata": {
        "id": "NRNxAM--ro32",
        "colab": {
          "base_uri": "https://localhost:8080/"
        },
        "outputId": "b950f8c3-861a-42fe-e377-1d741ca2f638"
      },
      "id": "NRNxAM--ro32",
      "execution_count": 50,
      "outputs": [
        {
          "output_type": "stream",
          "name": "stdout",
          "text": [
            "False Negative: [('Oh! nothing wrong.', 'ENGLISH'), ('\\\\\"Your turn has passed.', 'ENGLISH'), ('\\\\\"Nothing, thanks.', 'ENGLISH'), ('Denise stopped and waited.', 'ENGLISH'), ('Bourdoncle yielded once more.', 'ENGLISH'), ('You can speak freely.', 'ENGLISH'), ('\\\\\"Monsieur de Boves, Monsieur de Vallagnosc,\\\\\" announced the footman.', 'ENGLISH'), ('4).', 'ENGLISH'), ('Denise heaved a sigh of relief.', 'ENGLISH'), (\"I won't annoy you any more.\", 'ENGLISH'), ('\\\\\"Madame Aurélie?\\\\\" inquired Denise.', 'ENGLISH'), ('Denise ran away.', 'ENGLISH'), ('You must muster up courage.', 'ENGLISH'), ('Napoleon III.', 'ENGLISH'), ('In the distance, Paris roared.', 'ENGLISH'), ('Several months passed away.', 'ENGLISH'), ('\\\\\"To-morrow?\\\\\"  This simple question troubled Denise.', 'ENGLISH'), (\"On hearing Denise's remark Pauline laughed heartily.\", 'ENGLISH'), ('Excuse me if I trouble you.', 'ENGLISH'), (\"She's just received a letter.\", 'ENGLISH'), ('Hutin went in first.', 'ENGLISH'), ('I prefer to die.', 'ENGLISH')]\n",
            "False Positive: [('Fairbanks, AK, 99712., but its volunteers and employees are scattered throughout numerous locations.', 'FRENCH'), (\"Email contact links and up to date contact information can be found at the Foundation's web site and official page at https://pglaf.org  For additional contact information: Dr.\", 'FRENCH'), (\"Except for the limited right of replacement or refund set forth in paragraph 1.F.3, this work is provided to you 'AS-IS', WITH NO OTHER WARRANTIES OF ANY KIND, EXPRESS OR IMPLIED, INCLUDING BUT NOT LIMITED TO WARRANTIES OF MERCHANTIBILITY OR FITNESS FOR ANY PURPOSE.\", 'FRENCH'), ('To SEND DONATIONS or determine the status of compliance for any particular state visit https://pglaf.org  While we cannot and do not solicit contributions from states where we have not met the solicitation requirements, we know of no prohibition against accepting unsolicited donations from donors in such states who approach us with offers to donate.', 'FRENCH'), ('It exists because of the efforts of hundreds of volunteers and donations from people in all walks of life.', 'FRENCH'), ('You may use this eBook for nearly any purpose such as creation of derivative works, reports, performances and research.', 'FRENCH'), ('Creating the works from public domain print editions means that no one owns a United States copyright in these works, so the Foundation (and you!) can copy and distribute it in the United States without permission and without paying copyright royalties.', 'FRENCH'), ('Nearly all the individual works in the collection are in the public domain in the United States.', 'FRENCH'), ('LIMITED RIGHT OF REPLACEMENT OR REFUND - If you discover a defect in this electronic work within 90 days of receiving it, you can receive a refund of the money (if any) you paid for it by sending a written explanation to the person you received the work from.', 'FRENCH'), ('YOU AGREE THAT THE FOUNDATION, THE TRADEMARK OWNER, AND ANY DISTRIBUTOR UNDER THIS AGREEMENT WILL NOT BE LIABLE TO YOU FOR ACTUAL, DIRECT, INDIRECT, CONSEQUENTIAL, PUNITIVE OR INCIDENTAL DAMAGES EVEN IF YOU GIVE NOTICE OF THE POSSIBILITY OF SUCH DAMAGE.', 'FRENCH'), ('If you received the work electronically, the person or entity providing it to you may choose to give you a second opportunity to receive the work electronically in lieu of a refund.', 'FRENCH'), ('The Foundation makes no representations concerning the copyright status of any work in any country outside the United States.', 'FRENCH'), ('To learn more about the Project Gutenberg Literary Archive Foundation and how your efforts and donations can help, see Sections 3 and 4 and the Foundation web page at https://www.pglaf.org.', 'FRENCH')]\n"
          ]
        }
      ]
    },
    {
      "cell_type": "code",
      "execution_count": 51,
      "id": "6039cd80",
      "metadata": {
        "id": "6039cd80",
        "outputId": "e1ff37bc-6185-482a-be49-be900d037e9a",
        "colab": {
          "base_uri": "https://localhost:8080/"
        }
      },
      "outputs": [
        {
          "output_type": "stream",
          "name": "stdout",
          "text": [
            "Accuracy of the binary classification = 0.990\n"
          ]
        }
      ],
      "source": [
        "accuracy =  (TP+TN) /(TP+FP+TN+FN)\n",
        "print('Accuracy of the binary classification = {:0.3f}'.format(accuracy))"
      ]
    },
    {
      "cell_type": "markdown",
      "id": "2efcf249",
      "metadata": {
        "id": "2efcf249"
      },
      "source": [
        "More Evaluations"
      ]
    },
    {
      "cell_type": "code",
      "execution_count": 52,
      "id": "571d07b3",
      "metadata": {
        "id": "571d07b3"
      },
      "outputs": [],
      "source": [
        "test_acc = accuracy_score(labels1, predictions)"
      ]
    },
    {
      "cell_type": "code",
      "execution_count": 53,
      "id": "62fc6c1a",
      "metadata": {
        "id": "62fc6c1a",
        "outputId": "433c758b-5849-4a91-e443-6c4cdb3eb2cf",
        "colab": {
          "base_uri": "https://localhost:8080/"
        }
      },
      "outputs": [
        {
          "output_type": "stream",
          "name": "stdout",
          "text": [
            "The Accuracy for Test Set is 99.029933481153\n"
          ]
        }
      ],
      "source": [
        "print(\"The Accuracy for Test Set is {}\".format(test_acc*100))"
      ]
    },
    {
      "cell_type": "code",
      "execution_count": 54,
      "id": "cfc7c61b",
      "metadata": {
        "id": "cfc7c61b",
        "outputId": "e55d565c-a307-42bc-8262-2ce7a3aa4546",
        "colab": {
          "base_uri": "https://localhost:8080/"
        }
      },
      "outputs": [
        {
          "output_type": "stream",
          "name": "stdout",
          "text": [
            "              precision    recall  f1-score   support\n",
            "\n",
            "           0       0.99      0.99      0.99      1643\n",
            "           1       0.99      0.99      0.99      1965\n",
            "\n",
            "    accuracy                           0.99      3608\n",
            "   macro avg       0.99      0.99      0.99      3608\n",
            "weighted avg       0.99      0.99      0.99      3608\n",
            "\n"
          ]
        }
      ],
      "source": [
        "print(classification_report(labels1, predictions))"
      ]
    }
  ],
  "metadata": {
    "kernelspec": {
      "display_name": "Python 3 (ipykernel)",
      "language": "python",
      "name": "python3"
    },
    "language_info": {
      "codemirror_mode": {
        "name": "ipython",
        "version": 3
      },
      "file_extension": ".py",
      "mimetype": "text/x-python",
      "name": "python",
      "nbconvert_exporter": "python",
      "pygments_lexer": "ipython3",
      "version": "3.8.10"
    },
    "colab": {
      "name": "Binary Project.ipynb",
      "provenance": [],
      "include_colab_link": true
    }
  },
  "nbformat": 4,
  "nbformat_minor": 5
}